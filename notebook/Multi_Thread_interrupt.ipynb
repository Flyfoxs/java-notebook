{
 "cells": [
  {
   "cell_type": "markdown",
   "metadata": {},
   "source": [
    "# Thread with interrupt"
   ]
  },
  {
   "cell_type": "code",
   "execution_count": 1,
   "metadata": {},
   "outputs": [
    {
     "name": "stdout",
     "output_type": "stream",
     "text": [
      "begin\n"
     ]
    },
    {
     "name": "stderr",
     "output_type": "stream",
     "text": [
      "java.lang.InterruptedException: sleep interrupted\n"
     ]
    }
   ],
   "source": [
    "Thread t1= new Thread(()->{\n",
    "            try {\n",
    "                System.out.println(\"begin\");\n",
    "                Thread.sleep(5000);\n",
    "                System.out.println(\"end\");\n",
    "            } catch (InterruptedException e) {\n",
    "                e.printStackTrace();\n",
    "            }\n",
    "\n",
    "        });\n",
    "t1.start();\n",
    "t1.interrupt();"
   ]
  },
  {
   "cell_type": "markdown",
   "metadata": {},
   "source": [
    "# Thread without interrupt"
   ]
  },
  {
   "cell_type": "code",
   "execution_count": 2,
   "metadata": {},
   "outputs": [
    {
     "name": "stdout",
     "output_type": "stream",
     "text": [
      "begin"
     ]
    }
   ],
   "source": [
    "Thread t1= new Thread(()->{\n",
    "            try {\n",
    "                System.out.println(\"begin\");\n",
    "                System.out.println(\"end\");\n",
    "                Thread.sleep(1000);\n",
    "                System.out.println(\"end\");\n",
    "            } catch (InterruptedException e) {\n",
    "                e.printStackTrace();\n",
    "            }\n",
    "\n",
    "        });\n",
    "t1.start();\n",
    " "
   ]
  }
 ],
 "metadata": {
  "kernelspec": {
   "display_name": "Java",
   "language": "java",
   "name": "java"
  },
  "language_info": {
   "codemirror_mode": "java",
   "file_extension": ".jshell",
   "mimetype": "text/x-java-source",
   "name": "Java",
   "pygments_lexer": "java",
   "version": "11.0.4+11-LTS"
  }
 },
 "nbformat": 4,
 "nbformat_minor": 2
}
