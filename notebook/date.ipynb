{
 "cells": [
  {
   "cell_type": "code",
   "execution_count": 2,
   "metadata": {},
   "outputs": [],
   "source": [
    "%%loadFromPOM\n",
    "<repository>\n",
    "  <id>aliyun</id>\n",
    "  <url>\n",
    "      http://maven.aliyun.com/nexus/content/repositories/central/\n",
    "  </url>\n",
    "</repository>\n",
    "\n",
    "<dependency>\n",
    "    <artifactId>aws-java-sdk-core</artifactId>\n",
    "    <groupId>com.amazonaws</groupId>\n",
    "    <optional>false</optional>\n",
    "    <version>1.11.335</version>\n",
    "    <exclusions>\n",
    "        <exclusion>\n",
    "            <groupId>org.apache.httpcomponents</groupId>\n",
    "            <artifactId>httpclient</artifactId>\n",
    "        </exclusion>\n",
    "        <exclusion>\n",
    "            <groupId>com.fasterxml.jackson.dataformat</groupId>\n",
    "            <artifactId>jackson-dataformat-cbor</artifactId>\n",
    "        </exclusion>\n",
    "    </exclusions>\n",
    "</dependency>\n"
   ]
  },
  {
   "cell_type": "code",
   "execution_count": 4,
   "metadata": {},
   "outputs": [
    {
     "name": "stdout",
     "output_type": "stream",
     "text": [
      "365\n",
      "-365\n"
     ]
    }
   ],
   "source": [
    "import org.joda.time.Days;\n",
    "import org.joda.time.LocalDate;\n",
    "LocalDate from = LocalDate.parse(\"2017-06-04\");\n",
    "LocalDate to = LocalDate.parse(\"2018-06-04\");\n",
    "System.out.println(Days.daysBetween(from, to).getDays());\n",
    "System.out.println(Days.daysBetween(to,from).getDays());"
   ]
  },
  {
   "cell_type": "code",
   "execution_count": null,
   "metadata": {},
   "outputs": [],
   "source": []
  }
 ],
 "metadata": {
  "kernelspec": {
   "display_name": "Java",
   "language": "java",
   "name": "java"
  },
  "language_info": {
   "codemirror_mode": "java",
   "file_extension": ".jshell",
   "mimetype": "text/x-java-source",
   "name": "Java",
   "pygments_lexer": "java",
   "version": "11.0.4+11-LTS"
  }
 },
 "nbformat": 4,
 "nbformat_minor": 2
}
