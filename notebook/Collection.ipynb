{
 "cells": [
  {
   "cell_type": "markdown",
   "metadata": {},
   "source": [
    "# 字符串拼接, StringJoiner"
   ]
  },
  {
   "cell_type": "code",
   "execution_count": 1,
   "metadata": {},
   "outputs": [
    {
     "data": {
      "text/plain": [
       " (AccountId = 'Steve' or AccountId = 'Rick' or AccountId = 'Peter' or AccountId = 'Abbey') "
      ]
     },
     "execution_count": 1,
     "metadata": {},
     "output_type": "execute_result"
    }
   ],
   "source": [
    "\n",
    "import java.util.List;\n",
    "import java.util.Arrays;\n",
    "\n",
    "\n",
    "//Converting an array of String to the list\n",
    "List<String>  list = Arrays.asList(\"Steve\", \"Rick\", \"Peter\", \"Abbey\");   \n",
    "StringJoiner sj = new StringJoiner(\" or \", \" (\", \") \");\n",
    "for(String item: list){\n",
    "    sj.add(String.format(\"AccountId = '%s'\" , item));\n",
    "}\n",
    "sj;\n"
   ]
  },
  {
   "cell_type": "code",
   "execution_count": 2,
   "metadata": {},
   "outputs": [
    {
     "data": {
      "text/plain": [
       " (AccountId = 'Steve') "
      ]
     },
     "execution_count": 2,
     "metadata": {},
     "output_type": "execute_result"
    }
   ],
   "source": [
    "List<String>  list = Arrays.asList(\"Steve\");   \n",
    "StringJoiner sj = new StringJoiner(\" or \", \" (\", \") \");\n",
    "for(String item: list){\n",
    "    sj.add(String.format(\"AccountId = '%s'\" , item));\n",
    "}\n",
    "sj;"
   ]
  },
  {
   "cell_type": "markdown",
   "metadata": {},
   "source": [
    "# 字符串拼接, String"
   ]
  },
  {
   "cell_type": "code",
   "execution_count": 3,
   "metadata": {},
   "outputs": [
    {
     "data": {
      "text/plain": [
       "Steve"
      ]
     },
     "execution_count": 3,
     "metadata": {},
     "output_type": "execute_result"
    }
   ],
   "source": [
    "String.join(\"_\", list)"
   ]
  },
  {
   "cell_type": "markdown",
   "metadata": {},
   "source": [
    "# 枚举类型"
   ]
  },
  {
   "cell_type": "code",
   "execution_count": 4,
   "metadata": {},
   "outputs": [
    {
     "data": {
      "text/plain": [
       "abcnullSAVE_IN_MEETING"
      ]
     },
     "execution_count": 4,
     "metadata": {},
     "output_type": "execute_result"
    }
   ],
   "source": [
    "\n",
    "public enum Action {\n",
    "    SAVE_IN_MEETING,\n",
    "    ADD_HOST_IN_MEETING,\n",
    "    DELETE_HOST_IN_MEETING\n",
    "}\n",
    "Action act = null;\n",
    "\"abc\" + act + Action.SAVE_IN_MEETING"
   ]
  },
  {
   "cell_type": "markdown",
   "metadata": {},
   "source": [
    "# 不同集合类型初始化"
   ]
  },
  {
   "cell_type": "code",
   "execution_count": 5,
   "metadata": {},
   "outputs": [
    {
     "data": {
      "text/plain": [
       "[Steve, Rick, Peter, Abbey]"
      ]
     },
     "execution_count": 5,
     "metadata": {},
     "output_type": "execute_result"
    }
   ],
   "source": [
    "Arrays.asList(\"Steve\", \"Rick\", \"Peter\", \"Abbey\");  "
   ]
  },
  {
   "cell_type": "code",
   "execution_count": 6,
   "metadata": {},
   "outputs": [
    {
     "data": {
      "text/plain": [
       "[www., javastack., cn]"
      ]
     },
     "execution_count": 6,
     "metadata": {},
     "output_type": "execute_result"
    }
   ],
   "source": [
    "List<String> list = new ArrayList<String>() {{\n",
    "    add(\"www.\");\n",
    "    add(\"javastack.\");\n",
    "    add(\"cn\");\n",
    "}};\n",
    "\n",
    "\n",
    "list "
   ]
  },
  {
   "cell_type": "code",
   "execution_count": 7,
   "metadata": {},
   "outputs": [
    {
     "data": {
      "text/plain": [
       "{1=www., 2=javastack., 3=cn}"
      ]
     },
     "execution_count": 7,
     "metadata": {},
     "output_type": "execute_result"
    }
   ],
   "source": [
    "Map<String, String> map = new HashMap<String, String>() {{\n",
    "    put(\"1\", \"www.\");\n",
    "    put(\"2\", \"javastack.\");\n",
    "    put(\"3\", \"cn\");\n",
    "}};\n",
    "\n",
    "map"
   ]
  },
  {
   "cell_type": "code",
   "execution_count": 8,
   "metadata": {},
   "outputs": [
    {
     "data": {
      "text/plain": [
       "{c=d, a=b}"
      ]
     },
     "execution_count": 8,
     "metadata": {},
     "output_type": "execute_result"
    }
   ],
   "source": [
    "Map<String, String> map = Map.of(\n",
    "    \"a\", \"b\",\n",
    "    \"c\", \"d\"\n",
    ");\n",
    "map"
   ]
  }
 ],
 "metadata": {
  "kernelspec": {
   "display_name": "Java",
   "language": "java",
   "name": "java"
  },
  "language_info": {
   "codemirror_mode": "java",
   "file_extension": ".jshell",
   "mimetype": "text/x-java-source",
   "name": "Java",
   "pygments_lexer": "java",
   "version": "11.0.4+11-LTS"
  }
 },
 "nbformat": 4,
 "nbformat_minor": 2
}
