{
 "cells": [
  {
   "cell_type": "markdown",
   "metadata": {},
   "source": [
    "# Package in Jshell\n",
    "Can not create package in Jshell"
   ]
  },
  {
   "cell_type": "code",
   "execution_count": 1,
   "metadata": {},
   "outputs": [
    {
     "name": "stdout",
     "output_type": "stream",
     "text": [
      "hello\n",
      "REPL\n",
      "package REPL\n",
      "jdk.jshell.execution.DefaultLoaderDelegate$RemoteClassLoader@1725dc0f\n"
     ]
    }
   ],
   "source": [
    "\n",
    "public class Hello {\n",
    "    public static void  main(){\n",
    "        System.out.println(\"hello\");\n",
    "        System.out.println(Hello.class.getPackageName());\n",
    "        System.out.println(Hello.class.getPackage());\n",
    "        \n",
    "        System.out.println(Hello.class.getClassLoader());\n",
    "    }\n",
    "}\n",
    "\n",
    "new Hello().main()"
   ]
  },
  {
   "cell_type": "markdown",
   "metadata": {},
   "source": [
    "## Package Issue\n",
    "Jshell can not create package, all the new Class are in the default pakcage\n",
    "\n",
    "Jshell所有创建的Class都属于Jshell默认的pakcage, 无法指定package\n",
    "\n",
    "https://stackoverflow.com/questions/46393151/importing-package-private-classes-to-jshell"
   ]
  },
  {
   "cell_type": "code",
   "execution_count": 2,
   "metadata": {},
   "outputs": [
    {
     "data": {
      "text/plain": [
       "class REPL.$JShell$12$Hello"
      ]
     },
     "execution_count": 2,
     "metadata": {},
     "output_type": "execute_result"
    }
   ],
   "source": [
    "Hello.class"
   ]
  },
  {
   "cell_type": "code",
   "execution_count": 3,
   "metadata": {},
   "outputs": [
    {
     "data": {
      "text/plain": [
       "class java.lang.String"
      ]
     },
     "execution_count": 3,
     "metadata": {},
     "output_type": "execute_result"
    }
   ],
   "source": [
    "String.class"
   ]
  }
 ],
 "metadata": {
  "kernelspec": {
   "display_name": "Java",
   "language": "java",
   "name": "java"
  },
  "language_info": {
   "codemirror_mode": "java",
   "file_extension": ".jshell",
   "mimetype": "text/x-java-source",
   "name": "Java",
   "pygments_lexer": "java",
   "version": "11.0.4+11-LTS"
  }
 },
 "nbformat": 4,
 "nbformat_minor": 2
}
