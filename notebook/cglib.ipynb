{
 "cells": [
  {
   "cell_type": "markdown",
   "metadata": {},
   "source": [
    "# CGLIB\n",
    "https://www.baeldung.com/cglib\n"
   ]
  },
  {
   "cell_type": "code",
   "execution_count": 1,
   "metadata": {},
   "outputs": [],
   "source": [
    "%%loadFromPOM\n",
    "<repository>\n",
    "  <id>aliyun</id>\n",
    "  <url>\n",
    "      http://maven.aliyun.com/nexus/content/repositories/central/\n",
    "  </url>\n",
    "</repository>\n",
    "\n",
    "<dependency>\n",
    "    <groupId>cglib</groupId>\n",
    "    <artifactId>cglib</artifactId>\n",
    "    <version>3.2.4</version>\n",
    "</dependency>\n",
    "\n",
    "<dependency>\n",
    "    <groupId>junit</groupId>\n",
    "    <artifactId>junit</artifactId>\n",
    "    <version>4.12</version>\n",
    "</dependency>\n"
   ]
  },
  {
   "cell_type": "code",
   "execution_count": 2,
   "metadata": {},
   "outputs": [],
   "source": [
    "import net.sf.cglib.proxy.Enhancer ;\n",
    "import net.sf.cglib.proxy.Enhancer;\n",
    "import net.sf.cglib.proxy.FixedValue;\n",
    "import net.sf.cglib.proxy.MethodInterceptor;\n",
    "import org.junit.Assert;\n"
   ]
  },
  {
   "cell_type": "code",
   "execution_count": 3,
   "metadata": {},
   "outputs": [
    {
     "name": "stdout",
     "output_type": "stream",
     "text": [
      "Hello Tom!\n"
     ]
    }
   ],
   "source": [
    "public class PersonService {\n",
    "    public String sayHello(String name) {\n",
    "        return \"Hello \" + name;\n",
    "    }\n",
    " \n",
    "    public Integer lengthOfName(String name) {\n",
    "        return name.length();\n",
    "    }\n",
    "}\n",
    "\n",
    "\n",
    "Enhancer enhancer = new Enhancer();\n",
    "enhancer.setSuperclass(PersonService.class);\n",
    "enhancer.setCallback((FixedValue) () -> \"Hello Tom!\");\n",
    "PersonService proxy = (PersonService) enhancer.create();\n",
    " \n",
    "String res = proxy.sayHello(null);\n",
    "System.out.println(res) ;\n",
    "Assert.assertEquals(\"Hello Tom!\", res);"
   ]
  },
  {
   "cell_type": "code",
   "execution_count": 4,
   "metadata": {},
   "outputs": [
    {
     "name": "stdout",
     "output_type": "stream",
     "text": [
      "Hello Tom!\n",
      "Hello Tom!\n"
     ]
    }
   ],
   "source": [
    "public class PersonService {\n",
    "    public String sayHello(String name) {\n",
    "        System.out.print(this.saySelf(name));\n",
    "        return \"Hello \" + name;\n",
    "    }\n",
    " \n",
    "    public String saySelf(String name){\n",
    "        return \"I'm \"+ name + \" from self\";\n",
    "    }\n",
    "    \n",
    "    public Integer lengthOfName(String name) {\n",
    "        return name.length();\n",
    "    }\n",
    "}\n",
    "\n",
    "\n",
    "Enhancer enhancer = new Enhancer();\n",
    "enhancer.setSuperclass(PersonService.class);\n",
    "enhancer.setCallback((FixedValue) () -> \"Hello Tom!\");\n",
    "PersonService proxy = (PersonService) enhancer.create();\n",
    " \n",
    "String res = proxy.sayHello(null);\n",
    "System.out.println(res) ;\n",
    "\n",
    "String res = proxy.saySelf(null);\n",
    "System.out.println(res) ;\n",
    "\n",
    "\n",
    "Assert.assertEquals(\"Hello Tom!\", res);"
   ]
  }
 ],
 "metadata": {
  "kernelspec": {
   "display_name": "Java",
   "language": "java",
   "name": "java"
  },
  "language_info": {
   "codemirror_mode": "java",
   "file_extension": ".jshell",
   "mimetype": "text/x-java-source",
   "name": "Java",
   "pygments_lexer": "java",
   "version": "11.0.4+11-LTS"
  }
 },
 "nbformat": 4,
 "nbformat_minor": 2
}
