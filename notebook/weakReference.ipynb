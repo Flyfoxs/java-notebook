{
 "cells": [
  {
   "cell_type": "code",
   "execution_count": 1,
   "metadata": {},
   "outputs": [],
   "source": [
    "import java.lang.ref.WeakReference ;\n",
    "\n",
    "class Student{ }"
   ]
  },
  {
   "cell_type": "code",
   "execution_count": 2,
   "metadata": {},
   "outputs": [
    {
     "name": "stdout",
     "output_type": "stream",
     "text": [
      "REPL.$JShell$13$Student@3421922c\n",
      "null\n"
     ]
    }
   ],
   "source": [
    "// 只有弱引用, 稍后马上会被回收\n",
    "WeakReference weakref = new WeakReference<Student>(new Student()) ;\n",
    "System.out.println(weakref.get());\n",
    "\n",
    "// 回收时, 发现只有弱引用\n",
    "System.gc();\n",
    "System.out.println(weakref.get());"
   ]
  },
  {
   "cell_type": "code",
   "execution_count": 3,
   "metadata": {},
   "outputs": [
    {
     "name": "stdout",
     "output_type": "stream",
     "text": [
      "REPL.$JShell$13$Student@37a4eb9a\n",
      "REPL.$JShell$13$Student@37a4eb9a\n"
     ]
    }
   ],
   "source": [
    "// 多了这个强引用, 所以下面的stu不会被回收\n",
    "Student stu = new Student();\n",
    "\n",
    "WeakReference weakref = new WeakReference<Student>(stu) ;\n",
    "System.out.println(weakref.get());\n",
    "\n",
    "// 有强引用, 所以无法回收\n",
    "System.gc();\n",
    "System.out.println(weakref.get());"
   ]
  }
 ],
 "metadata": {
  "kernelspec": {
   "display_name": "Java",
   "language": "java",
   "name": "java"
  },
  "language_info": {
   "codemirror_mode": "java",
   "file_extension": ".jshell",
   "mimetype": "text/x-java-source",
   "name": "Java",
   "pygments_lexer": "java",
   "version": "11.0.4+11-LTS"
  }
 },
 "nbformat": 4,
 "nbformat_minor": 2
}
