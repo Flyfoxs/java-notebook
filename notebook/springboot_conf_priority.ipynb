{
 "cells": [
  {
   "cell_type": "markdown",
   "metadata": {},
   "source": [
    "## Download Jar to /home/jovyan/.ivy2/cache"
   ]
  },
  {
   "cell_type": "code",
   "execution_count": 1,
   "metadata": {},
   "outputs": [],
   "source": [
    "%%loadFromPOM\n",
    "<repository>\n",
    "  <id>aliyun</id>\n",
    "  <url>\n",
    "      http://maven.aliyun.com/nexus/content/repositories/central/\n",
    "  </url>\n",
    "</repository>\n",
    "\n",
    "<dependency>\n",
    "    <groupId>org.springframework.boot</groupId>\n",
    "    <artifactId>spring-boot-starter-web</artifactId>\n",
    "    <version>2.1.5.RELEASE</version>\n",
    "</dependency>\n",
    "\n"
   ]
  },
  {
   "cell_type": "markdown",
   "metadata": {},
   "source": [
    "# 优先级\n",
    "配置中心 > 命令行 > 环境变量 > 配置文件"
   ]
  },
  {
   "cell_type": "markdown",
   "metadata": {},
   "source": [
    "# 设置环境变量\n",
    "\n",
    "对比 **命令行参数** 和 **环境变量**  "
   ]
  },
  {
   "cell_type": "code",
   "execution_count": 2,
   "metadata": {},
   "outputs": [
    {
     "data": {
      "text/plain": [
       "7001"
      ]
     },
     "execution_count": 2,
     "metadata": {},
     "output_type": "execute_result"
    }
   ],
   "source": [
    "System.setProperty(\"server.port\",\"7001\");\n",
    "System.getProperty(\"server.port\")"
   ]
  },
  {
   "cell_type": "code",
   "execution_count": 3,
   "metadata": {
    "scrolled": false
   },
   "outputs": [
    {
     "name": "stdout",
     "output_type": "stream",
     "text": [
      "\n",
      "  .   ____          _            __ _ _\n",
      " /\\\\ / ___'_ __ _ _(_)_ __  __ _ \\ \\ \\ \\\n",
      "( ( )\\___ | '_ | '_| | '_ \\/ _` | \\ \\ \\ \\\n",
      " \\\\/  ___)| |_)| | | | | || (_| |  ) ) ) )\n",
      "  '  |____| .__|_| |_|_| |_\\__, | / / / /\n",
      " =========|_|==============|___/=/_/_/_/\n",
      " :: Spring Boot ::        (v2.1.5.RELEASE)\n",
      "\n"
     ]
    },
    {
     "name": "stderr",
     "output_type": "stream",
     "text": [
      "Nov 05, 2020 4:08:30 PM org.springframework.boot.StartupInfoLogger logStarting\n",
      "INFO: Starting .JShell.30.SpringBootComponentScanApp on ba145b8190e1 with PID 3429 (started by jovyan in /home/jovyan/notebook)\n",
      "Nov 05, 2020 4:08:30 PM org.springframework.boot.SpringApplication logStartupProfileInfo\n",
      "INFO: No active profile set, falling back to default profiles: default\n",
      "Nov 05, 2020 4:08:32 PM org.springframework.boot.web.embedded.tomcat.TomcatWebServer initialize\n",
      "INFO: Tomcat initialized with port(s): 7002 (http)\n",
      "Nov 05, 2020 4:08:32 PM org.apache.catalina.core.StandardService startInternal\n",
      "INFO: Starting service [Tomcat]\n",
      "Nov 05, 2020 4:08:32 PM org.apache.catalina.core.StandardEngine startInternal\n",
      "INFO: Starting Servlet engine: [Apache Tomcat/9.0.19]\n",
      "Nov 05, 2020 4:08:33 PM org.apache.catalina.core.ApplicationContext log\n",
      "INFO: Initializing Spring embedded WebApplicationContext\n",
      "Nov 05, 2020 4:08:33 PM org.springframework.boot.web.servlet.context.ServletWebServerApplicationContext prepareWebApplicationContext\n",
      "INFO: Root WebApplicationContext: initialization completed in 2124 ms\n",
      "Nov 05, 2020 4:08:33 PM org.springframework.scheduling.concurrent.ExecutorConfigurationSupport initialize\n",
      "INFO: Initializing ExecutorService 'applicationTaskExecutor'\n",
      "Nov 05, 2020 4:08:33 PM org.springframework.boot.web.embedded.tomcat.TomcatWebServer start\n",
      "INFO: Tomcat started on port(s): 7002 (http) with context path ''\n",
      "Nov 05, 2020 4:08:33 PM org.springframework.boot.StartupInfoLogger logStarted\n",
      "INFO: Started .JShell.30.SpringBootComponentScanApp in 3.956 seconds (JVM running for 12.444)\n"
     ]
    }
   ],
   "source": [
    "\n",
    "import org.springframework.boot.SpringApplication;\n",
    "import org.springframework.boot.autoconfigure.SpringBootApplication;\n",
    "import org.springframework.context.ApplicationContext;\n",
    "import org.springframework.context.annotation.Bean;\n",
    "\n",
    "import org.springframework.stereotype.Component;\n",
    "import org.springframework.beans.factory.annotation.Autowired;\n",
    "import org.springframework.context.annotation.ComponentScan;\n",
    "\n",
    "import org.springframework.web.bind.annotation.RestController;\n",
    "import org.springframework.web.bind.annotation.GetMapping;\n",
    "\n",
    "import org.springframework.http.MediaType;\n",
    "\n",
    "import java.util.Optional;\n",
    "import java.util.concurrent.TimeUnit;\n",
    "import java.util.stream.IntStream;\n",
    "\n",
    "@SpringBootApplication\n",
    "@RestController\n",
    "public class SpringBootComponentScanApp {\n",
    "    private static ApplicationContext applicationContext;\n",
    "\n",
    " \n",
    "    public static void main(String[] args) {\n",
    " \n",
    "        applicationContext = SpringApplication.run(SpringBootComponentScanApp.class, args);\n",
    "       \n",
    "    }\n",
    "    \n",
    "    @GetMapping(\"/test/1\")\n",
    "    public String uiConfiguration() {\n",
    "        return \"hello#1\";\n",
    "    }\n",
    "    \n",
    "}\n",
    "\n",
    "new SpringBootComponentScanApp().main( new String[]{\"--server.port=7002\"})"
   ]
  },
  {
   "cell_type": "markdown",
   "metadata": {},
   "source": [
    "日志重点:\n",
    "\n",
    "7002 (http) with context path ''"
   ]
  }
 ],
 "metadata": {
  "kernelspec": {
   "display_name": "Java",
   "language": "java",
   "name": "java"
  },
  "language_info": {
   "codemirror_mode": "java",
   "file_extension": ".jshell",
   "mimetype": "text/x-java-source",
   "name": "Java",
   "pygments_lexer": "java",
   "version": "11.0.4+11-LTS"
  }
 },
 "nbformat": 4,
 "nbformat_minor": 2
}
