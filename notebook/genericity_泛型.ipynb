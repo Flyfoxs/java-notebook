{
 "cells": [
  {
   "cell_type": "markdown",
   "metadata": {},
   "source": [
    "# 泛型定义函数输入和输出"
   ]
  },
  {
   "cell_type": "code",
   "execution_count": 1,
   "metadata": {},
   "outputs": [
    {
     "name": "stdout",
     "output_type": "stream",
     "text": [
      "class java.lang.Integer\n",
      "class java.lang.Integer\n"
     ]
    }
   ],
   "source": [
    "// 定义泛型\n",
    "class Test<R, I> {\n",
    "    public R hello( I str){\n",
    "        return (R) str;\n",
    "    }\n",
    "}\n",
    "\n",
    "// 调用定义对象#1\n",
    "Test<Object, Object> test = new Test<Object, Object>();\n",
    "Object res = test.hello(123);\n",
    "System.out.println(res.getClass());\n",
    "\n",
    "\n",
    "// 调用定义对象#2\n",
    "Test<Integer, Object> test = new Test();\n",
    "Integer res = test.hello(123);\n",
    "System.out.println(res.getClass());"
   ]
  },
  {
   "cell_type": "markdown",
   "metadata": {},
   "source": [
    "# 静态方法的泛型"
   ]
  },
  {
   "cell_type": "code",
   "execution_count": 4,
   "metadata": {},
   "outputs": [
    {
     "data": {
      "text/plain": [
       "123"
      ]
     },
     "execution_count": 4,
     "metadata": {},
     "output_type": "execute_result"
    }
   ],
   "source": [
    "class Test {\n",
    "    static public<R, I> R hello( I str){\n",
    "        return (R) str;\n",
    "    }\n",
    "}\n",
    "\n",
    "Test.<String, Object>hello(\"123\")"
   ]
  }
 ],
 "metadata": {
  "kernelspec": {
   "display_name": "Java",
   "language": "java",
   "name": "java"
  },
  "language_info": {
   "codemirror_mode": "java",
   "file_extension": ".jshell",
   "mimetype": "text/x-java-source",
   "name": "Java",
   "pygments_lexer": "java",
   "version": "11.0.4+11-LTS"
  }
 },
 "nbformat": 4,
 "nbformat_minor": 2
}
