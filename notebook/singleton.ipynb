{
 "cells": [
  {
   "cell_type": "markdown",
   "metadata": {},
   "source": [
    "# 类初始化"
   ]
  },
  {
   "cell_type": "code",
   "execution_count": 1,
   "metadata": {},
   "outputs": [
    {
     "data": {
      "text/plain": [
       "REPL.$JShell$12$Singleton@9781310"
      ]
     },
     "execution_count": 1,
     "metadata": {},
     "output_type": "execute_result"
    }
   ],
   "source": [
    "public class Singleton{\n",
    "    //禁止外部new方法\n",
    "    private Singleton(){};\n",
    "    \n",
    "    private static Singleton tmp = new Singleton();\n",
    "    \n",
    "    public static synchronized Singleton getInstance(){\n",
    "        return tmp;\n",
    "    }\n",
    "    \n",
    "}\n",
    "\n",
    "Singleton.getInstance()"
   ]
  },
  {
   "cell_type": "markdown",
   "metadata": {},
   "source": [
    "# 懒加载, 锁整个method \n",
    "性能会有问题"
   ]
  },
  {
   "cell_type": "code",
   "execution_count": 2,
   "metadata": {},
   "outputs": [
    {
     "data": {
      "text/plain": [
       "REPL.$JShell$12B$Singleton@47517cae"
      ]
     },
     "execution_count": 2,
     "metadata": {},
     "output_type": "execute_result"
    }
   ],
   "source": [
    "public class Singleton{\n",
    "    \n",
    "    private Singleton(){};\n",
    "    \n",
    "    private static Singleton tmp ;\n",
    "    \n",
    "    public static synchronized Singleton getInstance(){\n",
    "        if(tmp == null){\n",
    "           tmp = new Singleton();\n",
    "        }\n",
    "        return tmp;\n",
    "    }\n",
    "    \n",
    "}\n",
    "\n",
    "Singleton.getInstance()"
   ]
  },
  {
   "cell_type": "markdown",
   "metadata": {},
   "source": [
    "# 双重检查"
   ]
  },
  {
   "cell_type": "code",
   "execution_count": 3,
   "metadata": {},
   "outputs": [
    {
     "data": {
      "text/plain": [
       "REPL.$JShell$12C$Singleton@678f24e6"
      ]
     },
     "execution_count": 3,
     "metadata": {},
     "output_type": "execute_result"
    }
   ],
   "source": [
    "public class Singleton{\n",
    "    \n",
    "    private Singleton(){};\n",
    "    \n",
    "    //禁止指令重排, 否则\n",
    "    private volatile static  Singleton tmp ;\n",
    "    \n",
    "    public static Singleton getInstance(){\n",
    "        if(tmp == null){\n",
    "            synchronized(Singleton.class){\n",
    "                if (tmp == null){\n",
    "                       tmp = new Singleton();\n",
    "                    }\n",
    "                }\n",
    "        }\n",
    "        return tmp;\n",
    "    }\n",
    "    \n",
    "}\n",
    "\n",
    "Singleton.getInstance()"
   ]
  }
 ],
 "metadata": {
  "kernelspec": {
   "display_name": "Java",
   "language": "java",
   "name": "java"
  },
  "language_info": {
   "codemirror_mode": "java",
   "file_extension": ".jshell",
   "mimetype": "text/x-java-source",
   "name": "Java",
   "pygments_lexer": "java",
   "version": "11.0.4+11-LTS"
  }
 },
 "nbformat": 4,
 "nbformat_minor": 2
}
